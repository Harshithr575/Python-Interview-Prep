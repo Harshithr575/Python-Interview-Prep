





























import math
area = (4 * math.pow(20, 2))/(4 * math.tan(math.pi/4))
print(area)





import math
print(math.pow(150, 4))











import math
print(math.tan(60))





import math
print(math.pi)



