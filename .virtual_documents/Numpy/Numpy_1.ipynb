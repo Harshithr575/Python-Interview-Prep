














import numpy as np
a = np.zeros(10, dtype = int)
a








a = np.ones((3,5), dtype = float)
a








a = np.full((3,5), 3.14)
a








np.arange(0, 20, 2)








np.linspace(0, 1, 5)











a = np.random.random((3, 3))
a








a = np.random.normal(0, 1, (3, 3))
a








a = np.random.randint(0, 10, (3, 3))
a








a = np.eye(3)
a








np.empty(3)



