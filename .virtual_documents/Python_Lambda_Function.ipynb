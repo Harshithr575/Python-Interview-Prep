





























add = lambda a: a + a
print(add(20))








add = lambda a, b, c: a + b + c
print(add(10, 10, 10))








def add(a,b,c):
    return a+b+c
result = add(10, 10, 10)
print(result)


print(type(result))





add = lambda a, b, c: a + b + c
print(add(10, 10, 10))


print(type(add))








import time
start_time = time.time()
add = lambda a, b, c: a + b + c
print(add(10, 10, 10))
print("--- %s seconds ---" % (time.time() - start_time))











def add(n):
    return lambda a : a + n
result = add(100)
print(result)
print(result(200))








def add(n):
    return lambda a : a + n
result = add(100)
print(result(200))
print("-------------------")
print(result(300))
print("-------------------")
print(result(400))
print("-------------------")
print(result(500))






