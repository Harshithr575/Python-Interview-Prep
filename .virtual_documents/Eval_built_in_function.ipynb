
































input = input("Enter any number of your choice:")
print(input)
print(type(input))





eval = eval(input("Enter any number of your choice"))
print(eval)
print(type(eval))








evaluate = input("Enter what operation x has to perform:")
print(evaluate)
print(type(evaluate))


x = 10
print(type(x))


expression = eval(evaluate)
print(expression)
print(type(expression))






