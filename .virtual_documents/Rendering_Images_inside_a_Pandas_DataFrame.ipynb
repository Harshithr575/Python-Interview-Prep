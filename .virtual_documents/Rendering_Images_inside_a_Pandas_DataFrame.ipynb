














# Importing the necessary libraries
import pandas as pd
from IPython.core.display import HTML








# Create a dataframe using pandas library
df = pd.DataFrame([[2768571, 130655, 1155027, 34713051, 331002277],        
                   [1448753, 60632, 790040, 3070447, 212558178],
                   [654405, 9536, 422931, 19852167, 145934619],
                   [605216, 17848, 359891, 8826585, 1379974505],
                   [288477, 9860, 178245, 1699369, 32969875]],
                   columns = ['Total Cases', 'Total Deaths', 'Total Recovered', 'Total Tests', 'Population'])
df








# Create a list named country to store all the image paths
country = [
'https://www.countries-ofthe-world.com/flags-normal/flag-of-United-States-of-America.png',
'https://www.countries-ofthe-world.com/flags-normal/flag-of-Brazil.png',
'https://www.countries-ofthe-world.com/flags-normal/flag-of-Russia.png',
'https://www.countries-ofthe-world.com/flags-normal/flag-of-India.png',
'https://www.countries-ofthe-world.com/flags-normal/flag-of-Peru.png'
]

country








# Assigning the new list as a new column of the dataframe
df['Country'] = country





df





# Converting links to html tags
def path_to_image_html(path):
    return '<img src="'+ path + '" width="60" >'








# Rendering the dataframe as HTML table
df.to_html(escape=False, formatters=dict(Country=path_to_image_html))





<table border="1" class="dataframe">
  <thead>
    <tr style="text-align: right;">
      <th></th>
      <th>Total Cases</th>
      <th>Total Deaths</th>
      <th>Total Recovered</th>
      <th>Total Tests</th>
      <th>Population</th>
      <th>Country</th>
    </tr>
  </thead>
  <tbody>
    <tr>
      <th>0</th>
      <td>2768571</td>
      <td>130655</td>
      <td>1155027</td>
      <td>34713051</td>
      <td>331002277</td>
      <td><img src="https://www.countries-ofthe-world.com/flags-normal/flag-of-United-States-of-America.png" width="60" ></td>
    </tr>
    <tr>
      <th>1</th>
      <td>1448753</td>
      <td>60632</td>
      <td>790040</td>
      <td>3070447</td>
      <td>212558178</td>
      <td><img src="https://www.countries-ofthe-world.com/flags-normal/flag-of-Brazil.png" width="60" ></td>
    </tr>
    <tr>
      <th>2</th>
      <td>654405</td>
      <td>9536</td>
      <td>422931</td>
      <td>19852167</td>
      <td>145934619</td>
      <td><img src="https://www.countries-ofthe-world.com/flags-normal/flag-of-Russia.png" width="60" ></td>
    </tr>
    <tr>
      <th>3</th>
      <td>605216</td>
      <td>17848</td>
      <td>359891</td>
      <td>8826585</td>
      <td>1379974505</td>
      <td><img src="https://www.countries-ofthe-world.com/flags-normal/flag-of-India.png" width="60" ></td>
    </tr>
    <tr>
      <th>4</th>
      <td>288477</td>
      <td>9860</td>
      <td>178245</td>
      <td>1699369</td>
      <td>32969875</td>
      <td><img src="https://www.countries-ofthe-world.com/flags-normal/flag-of-Peru.png" width="60" ></td>
    </tr>
  </tbody>
</table>





# Rendering the images in the dataframe using the HTML method.
HTML(df.to_html(escape=False,formatters=dict(Country=path_to_image_html)))








# Saving the dataframe as a webpage
df.to_html('webpage.html',escape=False, formatters=dict(Country=path_to_image_html))








# Importing the necessary libraries
import pandas as pd
from IPython.core.display import HTML
# Create a dataframe using pandas library
df = pd.DataFrame([[2768571, 130655, 1155027, 34713051, 331002277],
[1448753, 60632, 790040, 3070447, 212558178],[654405, 9536, 422931, 19852167, 145934619],[605216, 17848, 359891, 8826585, 1379974505],[288477, 9860, 178245, 1699369, 32969875]], columns = ['Total Cases', 'Total Deaths', 'Total Recovered', 'Total Tests', 'Population'])
# Create a list named country to store all the image paths
country = ['https://www.countries-ofthe-world.com/flags-normal/flag-of-United-States-of-America.png','https://www.countries-ofthe-world.com/flags-normal/flag-of-Brazil.png','https://www.countries-ofthe-world.com/flags-normal/flag-of-Russia.png','https://www.countries-ofthe-world.com/flags-normal/flag-of-India.png','https://www.countries-ofthe-world.com/flags-normal/flag-of-Peru.png']
# Assigning the new list as a new column of the dataframe
df['Country'] = country
# Converting links to html tags
def path_to_image_html(path):
    return '<img src="'+ path + '" width="60" >'
# Rendering the dataframe as HTML table
df.to_html(escape=False, formatters=dict(Country=path_to_image_html))
# Rendering the images in the dataframe using the HTML method.
HTML(df.to_html(escape=False,formatters=dict(Country=path_to_image_html)))
# Saving the dataframe as a webpage
df.to_html('webpage.html',escape=False, formatters=dict(Country=path_to_image_html))



