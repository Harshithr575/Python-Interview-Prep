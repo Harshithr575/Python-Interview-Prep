


























x = range(10)
print(x)








x = range(10)
for i in x:
    print(i)








x = range(1, 10)
for i in x:
    print(i)








x = range(1, 10, 2)
for i in x:
    print(i)








x = range(10)
print(type(x))








x = range(10.0, 100.5)
for i in x:
    print(i)





x = range(int(10.0), int(100.5))
for i in x:
    print(i)





x = range(0, 100 * 2)
for i in x:
    print(i * 0.5)








x = xrange(1, 5)
for i in x:
    print(i)








names = ['India', 'Canada', 'United States', 'United Kingdom']
for i in range(1, len(names)):
    print(names[i])








x = range(1, 10, 2)
for i in x:
    print(i)








x = range(10, 1, -2)
for i in x:
    print(i)









