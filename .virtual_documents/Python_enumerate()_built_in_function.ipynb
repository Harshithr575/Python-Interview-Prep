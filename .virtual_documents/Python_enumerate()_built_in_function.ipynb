




















help(enumerate)











programmming = ["Python", "Programmming", "Is", "Fun"]
print(type(programmming))
enum = enumerate(programmming)
print(type(enum))


#Converting to a list
lenum = list(enum)
print(lenum)


# so this is now a list of tuples
for i in lenum:
    print(type(i))


#Converting to a tuple
print(tuple(lenum))


#Converting to a set
print(set(enum))











programmming = ["Python", "Programmming", "Is", "Fun"]


# Counter value starts from 0
enum = enumerate(programmming)
print(list(enum))


# Counter value starts from 5
enum = enumerate(programmming, 5)
print(list(enum))








programmming = ["Python", "Programmming", "Is", "Fun"]
for i in enumerate(programmming):
    print(i)
for i in enumerate(programmming, 10):
    print(i)






